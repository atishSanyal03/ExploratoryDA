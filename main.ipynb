{
 "cells": [
  {
   "cell_type": "code",
   "execution_count": 1,
   "metadata": {},
   "outputs": [],
   "source": [
    "#Requirement: \n",
    "#1. Use Python to develop a binary classification algorithm. \n",
    "#2. This algorithm shall detect the 'V' beats in Electrocardiogram (ECG), \n",
    "#   as shown in \"Fig: Train\". "
   ]
  },
  {
   "cell_type": "code",
   "execution_count": 2,
   "metadata": {},
   "outputs": [],
   "source": [
    "#Background:\n",
    "#1. What's Electrocardiogram (ECG)? \n",
    "#   [https://en.wikipedia.org/wiki/Electrocardiography]\n",
    "#2. What's V beat? (Premature ventricular contraction) \n",
    "#   [https://en.wikipedia.org/wiki/Premature_ventricular_contraction]\n",
    "#3. Hint: Features of V beats: peak-to-peak intervals, peak amplitudes, peak inverted. \n",
    "#   [https://www.dropbox.com/s/qeodwvh8rkii2dp/v-beats-features.pdf?dl=0]"
   ]
  },
  {
   "cell_type": "code",
   "execution_count": 3,
   "metadata": {},
   "outputs": [],
   "source": [
    "import pandas as pd\n",
    "import numpy as np\n",
    "# model training\n",
    "from sklearn.model_selection import train_test_split\n",
    "from sklearn.model_selection import GridSearchCV\n",
    "\n",
    "# classifiers\n",
    "from sklearn.naive_bayes import GaussianNB # naive bayes\n",
    "from sklearn.neighbors import KNeighborsClassifier # KNN\n",
    "from sklearn.svm import SVC # SVM\n",
    "from sklearn.linear_model import LogisticRegression # logistic regression\n",
    "from sklearn.tree import DecisionTreeClassifier # decision Tree\n",
    "from sklearn.ensemble import BaggingClassifier \n",
    "from sklearn.ensemble import AdaBoostClassifier\n",
    "from sklearn.ensemble import GradientBoostingClassifier\n",
    "from sklearn.ensemble import RandomForestClassifier"
   ]
  },
  {
   "cell_type": "code",
   "execution_count": 4,
   "metadata": {},
   "outputs": [],
   "source": [
    "#Supporting functions:\n",
    "%matplotlib inline\n",
    "import wfdb\n",
    "import matplotlib.pyplot as plt\n",
    "def read_ecg(file_path):\n",
    "    \"\"\"\n",
    "    output: ecg files, get signal, annotated peaks, annotated types\n",
    "    input: ecg file id\n",
    "    \"\"\"\n",
    "    signals, fields = wfdb.rdsamp(file_path)\n",
    "    annotation = wfdb.rdann(file_path, 'atr')\n",
    "    ecg_sig = signals[:,0]\n",
    "    ecg_type = annotation.symbol\n",
    "    ecg_peak = annotation.sample\n",
    "    return ecg_sig, ecg_type, ecg_peak\n",
    "\n",
    "def plot_ecg(ecg_sig, ecg_type, ecg_peak, title='Fig: Train', npeak=10, len_sig=3000):\n",
    "    \"\"\"\n",
    "    demo plot ecg signal with annotated peaks, annotated types\n",
    "    \"\"\"\n",
    "    _, ax = plt.subplots()\n",
    "    for i in range(0, npeak):\n",
    "        ax.annotate(ecg_type[i], xy=(ecg_peak[i], -2))\n",
    "    ax.plot(ecg_sig[0:len_sig])\n",
    "    ax.plot(ecg_peak[0:npeak], ecg_sig[ecg_peak[0:npeak]], '*')\n",
    "    ax.set_title(title)"
   ]
  },
  {
   "cell_type": "code",
   "execution_count": 5,
   "metadata": {},
   "outputs": [
    {
     "data": {
      "image/png": "[encoded data removed]",
      "text/plain": [
       "<Figure size 432x288 with 1 Axes>"
      ]
     },
     "metadata": {
      "needs_background": "light"
     },
     "output_type": "display_data"
    }
   ],
   "source": [
    "#What's included in the training database? \n",
    "#1. The training database contains a group of ECG signals and annotations: \n",
    "#2. In each annotation, the type of each beat is annotated on its peak (N, V, ...), \n",
    "#   For example: \n",
    "training_file_path = './database/train/a4'\n",
    "ecg_sig, ecg_type, ecg_peak = read_ecg(training_file_path)\n",
    "plot_ecg(ecg_sig, ecg_type, ecg_peak,len_sig=3000,npeak=10)"
   ]
  },
  {
   "cell_type": "markdown",
   "metadata": {},
   "source": [
    "## <font color=\"blue\" size=5>Data Preprocessing<font>\n",
    "<font size=3>-  __Merging all the data into one Frame.<br><br>-  Checking if peak-to-peak distance is according to rule specified:__<br><br>|<-R->|<--2*RR-->|<br>\n",
    "    ?&nbsp;&nbsp;&nbsp;&nbsp;&nbsp;&nbsp;&nbsp;&nbsp;?&nbsp;&nbsp;&nbsp;&nbsp;&nbsp;&nbsp;&nbsp;V&nbsp;&nbsp;&nbsp;&nbsp;&nbsp;&nbsp;&nbsp;?</font>"
   ]
  },
  {
   "cell_type": "code",
   "execution_count": 6,
   "metadata": {},
   "outputs": [],
   "source": [
    "df=pd.DataFrame()\n",
    "df1=pd.DataFrame()"
   ]
  },
  {
   "cell_type": "code",
   "execution_count": 7,
   "metadata": {},
   "outputs": [],
   "source": [
    "df['ecg_sig']=ecg_sig\n",
    "df1['ecg_type']=ecg_type\n",
    "df1['ecg_peak']=ecg_peak"
   ]
  },
  {
   "cell_type": "code",
   "execution_count": 8,
   "metadata": {},
   "outputs": [],
   "source": [
    "def p2p(ar):\n",
    "    res=[0,0]\n",
    "    for i in range(2,len(ar)-1):\n",
    "        n=int((ar[i+1]-ar[i-1])/(ar[i-1]-ar[i-2]))\n",
    "        if n==2:\n",
    "            res.append(1)\n",
    "        else:\n",
    "            res.append(0)\n",
    "    res.append(0)\n",
    "    return res\n",
    "df1['p2p']=p2p(ecg_peak)"
   ]
  },
  {
   "cell_type": "code",
   "execution_count": 9,
   "metadata": {},
   "outputs": [],
   "source": [
    "dfNew=pd.merge(df, df1, left_index=True, right_on='ecg_peak',how='outer')"
   ]
  },
  {
   "cell_type": "code",
   "execution_count": 10,
   "metadata": {},
   "outputs": [],
   "source": [
    "dfNew['p2p']=dfNew['p2p'].fillna(0)"
   ]
  },
  {
   "cell_type": "code",
   "execution_count": 11,
   "metadata": {},
   "outputs": [],
   "source": [
    "def isPeak(ecg):\n",
    "    if ecg!='nan':\n",
    "        return 1\n",
    "    else:\n",
    "        return 0\n",
    "dfNew['isPeak']=dfNew['ecg_type'].apply(lambda ecg: isPeak(str(ecg)))"
   ]
  },
  {
   "cell_type": "markdown",
   "metadata": {},
   "source": [
    "<font size=4>__Outcome to be predicted is: whether a signal is V or not?__</font>"
   ]
  },
  {
   "cell_type": "code",
   "execution_count": 12,
   "metadata": {},
   "outputs": [],
   "source": [
    "def isV(ecg):\n",
    "    if ecg!='V':\n",
    "        return 0\n",
    "    else:\n",
    "        return 1\n",
    "dfNew['Outcome']=dfNew['ecg_type'].apply(lambda ecg: isV(str(ecg)))"
   ]
  },
  {
   "cell_type": "markdown",
   "metadata": {},
   "source": [
    "<font size=4>__Split Input Set into test and train__</font>"
   ]
  },
  {
   "cell_type": "code",
   "execution_count": 13,
   "metadata": {},
   "outputs": [],
   "source": [
    "x=dfNew.drop(['Outcome','ecg_type'],axis=1)\n",
    "y=dfNew['Outcome']\n",
    "x_train, x_test, y_train, y_test = train_test_split(x, y, test_size = 0.25, random_state=0)"
   ]
  },
  {
   "cell_type": "code",
   "execution_count": 14,
   "metadata": {},
   "outputs": [
    {
     "name": "stdout",
     "output_type": "stream",
     "text": [
      "(650000, 4) (650000,)\n"
     ]
    }
   ],
   "source": [
    "print(x.shape, y.shape)"
   ]
  },
  {
   "cell_type": "markdown",
   "metadata": {},
   "source": [
    "<br><br><br><font size=8 color=\"blue\">__Model Experimentation__</font><br><br>"
   ]
  },
  {
   "cell_type": "code",
   "execution_count": 15,
   "metadata": {},
   "outputs": [
    {
     "name": "stderr",
     "output_type": "stream",
     "text": [
      "C:\\Users\\User\\Miniconda3\\envs\\CS5242\\lib\\site-packages\\sklearn\\ensemble\\forest.py:248: FutureWarning: The default value of n_estimators will change from 10 in version 0.20 to 100 in 0.22.\n",
      "  \"10 in version 0.20 to 100 in 0.22.\", FutureWarning)\n"
     ]
    },
    {
     "name": "stdout",
     "output_type": "stream",
     "text": [
      "       model_acc  acc_mean\n",
      "Model                     \n",
      "GBC     0.999969       1.0\n",
      "RFC     0.999982       1.0\n",
      "avg     0.999975       1.0\n",
      "\n",
      "\n",
      "       model_f1  F1_mean\n",
      "Model                   \n",
      "GBC    0.999969      1.0\n",
      "RFC    0.999981      1.0\n",
      "avg    0.999975      1.0\n"
     ]
    }
   ],
   "source": [
    "model_names = ['GBC', 'RFC']\n",
    "model_acc = []\n",
    "model_f1 = []\n",
    "\n",
    "from sklearn.metrics import accuracy_score,f1_score \n",
    "models = []\n",
    "models.append(GradientBoostingClassifier())\n",
    "models.append(RandomForestClassifier())\n",
    "names = []\n",
    "y_predALL=[]\n",
    "\n",
    "for model in models:\n",
    "    y_pred = model.fit(x_train,y_train).predict(x_test)\n",
    "    y_predALL.append(y_pred)\n",
    "    acc = accuracy_score(y_test, y_pred)\n",
    "    f1 = f1_score(y_test, y_pred, average='weighted')\n",
    "    model_acc.append(acc)\n",
    "    model_f1.append(f1)\n",
    "    \n",
    "# --- End of your code ---\n",
    "\n",
    "accuracy_record = pd.DataFrame({'Model': model_names, 'model_acc': model_acc})\n",
    "accuracy_record['acc_mean'] = accuracy_record.mean(axis=1).round(2)\n",
    "accuracy_record.set_index('Model', inplace=True)\n",
    "accuracy_record.loc['avg'] = accuracy_record.mean()\n",
    "\n",
    "F1_record = pd.DataFrame({'Model': model_names, 'model_f1': model_f1})\n",
    "F1_record['F1_mean'] = F1_record.mean(axis=1).round(2)\n",
    "F1_record.set_index('Model', inplace=True)\n",
    "F1_record.loc['avg'] = F1_record.mean()\n",
    "\n",
    "print(accuracy_record)\n",
    "print('\\n')\n",
    "print(F1_record)"
   ]
  },
  {
   "cell_type": "markdown",
   "metadata": {},
   "source": [
    "<font size=4>__Plotting Confusion Matrix__</font>"
   ]
  },
  {
   "cell_type": "code",
   "execution_count": 16,
   "metadata": {},
   "outputs": [
    {
     "name": "stdout",
     "output_type": "stream",
     "text": [
      "Confusion matrix, without normalization\n",
      "[[162396      4]\n",
      " [     1     99]]\n"
     ]
    },
    {
     "data": {
      "image/png": "[encoded data removed]",
      "text/plain": [
       "<Figure size 432x288 with 2 Axes>"
      ]
     },
     "metadata": {
      "needs_background": "light"
     },
     "output_type": "display_data"
    },
    {
     "name": "stdout",
     "output_type": "stream",
     "text": [
      "Confusion matrix, without normalization\n",
      "[[162399      1]\n",
      " [     2     98]]\n"
     ]
    },
    {
     "data": {
      "image/png": "[encoded data removed]",
      "text/plain": [
       "<Figure size 432x288 with 2 Axes>"
      ]
     },
     "metadata": {
      "needs_background": "light"
     },
     "output_type": "display_data"
    }
   ],
   "source": [
    "import itertools\n",
    "def plot_confusion_matrix(cm, classes=[0,1],\n",
    "                          normalize=False,\n",
    "                          title='Confusion matrix',\n",
    "                          cmap=plt.cm.Blues):\n",
    "    \"\"\"\n",
    "    This function prints and plots the confusion matrix.\n",
    "    Normalization can be applied by setting `normalize=True`.\n",
    "    \"\"\"\n",
    "    if normalize:\n",
    "        cm = cm.astype('float') / cm.sum(axis=1)[:, np.newaxis]\n",
    "        print(\"Normalized confusion matrix\")\n",
    "    else:\n",
    "        print('Confusion matrix, without normalization')\n",
    "\n",
    "    print(cm)\n",
    "\n",
    "    plt.imshow(cm, interpolation='nearest', cmap=cmap)\n",
    "    plt.title(title)\n",
    "    plt.colorbar()\n",
    "    tick_marks = np.arange(len(classes))\n",
    "    plt.xticks(tick_marks, classes, rotation=45)\n",
    "    plt.yticks(tick_marks, classes)\n",
    "\n",
    "    fmt = '.2f' if normalize else 'd'\n",
    "    thresh = cm.max() / 2.\n",
    "    for i, j in itertools.product(range(cm.shape[0]), range(cm.shape[1])):\n",
    "        plt.text(j, i, format(cm[i, j], fmt),\n",
    "                 horizontalalignment=\"center\",\n",
    "                 color=\"white\" if cm[i, j] > thresh else \"black\")\n",
    "\n",
    "    plt.ylabel('True label')\n",
    "    plt.xlabel('Predicted label')\n",
    "    plt.tight_layout()\n",
    "    plt.show()\n",
    "import seaborn as sb\n",
    "from sklearn.metrics import confusion_matrix\n",
    "for i in range(len(models)):\n",
    "    cnf_matrix_1 = confusion_matrix(y_test, y_predALL[i])\n",
    "    plot_confusion_matrix(cnf_matrix_1,title=model_names[i])"
   ]
  },
  {
   "cell_type": "markdown",
   "metadata": {},
   "source": [
    "<font size=5>__Checking best model parameters__</font>"
   ]
  },
  {
   "cell_type": "code",
   "execution_count": 17,
   "metadata": {},
   "outputs": [
    {
     "data": {
      "text/plain": [
       "RandomForestClassifier(bootstrap=True, class_weight=None, criterion='gini',\n",
       "            max_depth=None, max_features='auto', max_leaf_nodes=None,\n",
       "            min_impurity_decrease=0.0, min_impurity_split=None,\n",
       "            min_samples_leaf=1, min_samples_split=2,\n",
       "            min_weight_fraction_leaf=0.0, n_estimators=10, n_jobs=None,\n",
       "            oob_score=False, random_state=None, verbose=0,\n",
       "            warm_start=False)"
      ]
     },
     "execution_count": 17,
     "metadata": {},
     "output_type": "execute_result"
    }
   ],
   "source": [
    "models[1]"
   ]
  },
  {
   "cell_type": "markdown",
   "metadata": {},
   "source": [
    "<font size=5>__Hyper-parameter Tuning using GridSearchCV__</font>"
   ]
  },
  {
   "cell_type": "code",
   "execution_count": 18,
   "metadata": {},
   "outputs": [
    {
     "name": "stdout",
     "output_type": "stream",
     "text": [
      "{'class_weight': {0: 1, 1: 1}, 'criterion': 'gini', 'max_features': 'sqrt', 'n_estimators': 10}\n",
      "\n",
      "Best score:\n",
      "\n",
      "0.986\n"
     ]
    }
   ],
   "source": [
    "from sklearn.model_selection import GridSearchCV\n",
    "\n",
    "n_est=[10, 50]\n",
    "class_w=[{0:1,1:1},{0:1,1:2}]\n",
    "cri=['gini']\n",
    "tuned_parameters = [{'n_estimators':n_est,'criterion':cri,'class_weight':class_w,'max_features': [ 'sqrt']}]\n",
    "gridRFC = GridSearchCV(RandomForestClassifier(), tuned_parameters, cv=10, scoring='recall' )\n",
    "gridRFC.fit(x_train,y_train)\n",
    "print(gridRFC.best_params_)\n",
    "print()\n",
    "print(\"Best score:\")\n",
    "print()\n",
    "print(round(gridRFC.best_score_,3))"
   ]
  },
  {
   "cell_type": "markdown",
   "metadata": {},
   "source": [
    "<font size=5>__Checking the confusion matrix for best model__</font>"
   ]
  },
  {
   "cell_type": "code",
   "execution_count": 19,
   "metadata": {},
   "outputs": [
    {
     "name": "stderr",
     "output_type": "stream",
     "text": [
      "C:\\Users\\User\\Miniconda3\\envs\\CS5242\\lib\\site-packages\\sklearn\\ensemble\\forest.py:248: FutureWarning: The default value of n_estimators will change from 10 in version 0.20 to 100 in 0.22.\n",
      "  \"10 in version 0.20 to 100 in 0.22.\", FutureWarning)\n"
     ]
    },
    {
     "name": "stdout",
     "output_type": "stream",
     "text": [
      "Confusion matrix, without normalization\n",
      "[[162399      1]\n",
      " [     2     98]]\n"
     ]
    },
    {
     "data": {
      "image/png": "[encoded data removed]",
      "text/plain": [
       "<Figure size 432x288 with 2 Axes>"
      ]
     },
     "metadata": {
      "needs_background": "light"
     },
     "output_type": "display_data"
    }
   ],
   "source": [
    "best_model=RandomForestClassifier(max_features='sqrt')\n",
    "best_pred=best_model.fit(x_train,y_train).predict(x_test)\n",
    "cnf_matrix_1 = confusion_matrix(y_test, best_pred)\n",
    "plot_confusion_matrix(cnf_matrix_1,title=\"Best Model\")"
   ]
  },
  {
   "cell_type": "markdown",
   "metadata": {},
   "source": [
    "<font size=5>__Training best model on entire input data__</font>"
   ]
  },
  {
   "cell_type": "code",
   "execution_count": 20,
   "metadata": {},
   "outputs": [
    {
     "name": "stderr",
     "output_type": "stream",
     "text": [
      "C:\\Users\\User\\Miniconda3\\envs\\CS5242\\lib\\site-packages\\sklearn\\ensemble\\forest.py:248: FutureWarning: The default value of n_estimators will change from 10 in version 0.20 to 100 in 0.22.\n",
      "  \"10 in version 0.20 to 100 in 0.22.\", FutureWarning)\n"
     ]
    },
    {
     "data": {
      "text/plain": [
       "RandomForestClassifier(bootstrap=True, class_weight=None, criterion='gini',\n",
       "            max_depth=None, max_features='sqrt', max_leaf_nodes=None,\n",
       "            min_impurity_decrease=0.0, min_impurity_split=None,\n",
       "            min_samples_leaf=1, min_samples_split=2,\n",
       "            min_weight_fraction_leaf=0.0, n_estimators=10, n_jobs=None,\n",
       "            oob_score=False, random_state=None, verbose=0,\n",
       "            warm_start=False)"
      ]
     },
     "execution_count": 20,
     "metadata": {},
     "output_type": "execute_result"
    }
   ],
   "source": [
    "best_model=RandomForestClassifier(max_features='sqrt')\n",
    "best_model.fit(x,y)"
   ]
  },
  {
   "cell_type": "code",
   "execution_count": 21,
   "metadata": {},
   "outputs": [
    {
     "data": {
      "text/plain": [
       "<BarContainer object of 4 artists>"
      ]
     },
     "execution_count": 21,
     "metadata": {},
     "output_type": "execute_result"
    },
    {
     "data": {
      "image/png": "[encoded data removed]",
      "text/plain": [
       "<Figure size 648x576 with 1 Axes>"
      ]
     },
     "metadata": {
      "needs_background": "light"
     },
     "output_type": "display_data"
    }
   ],
   "source": [
    "imp=best_model.feature_importances_\n",
    "plt.figure(1, figsize=(9, 8))\n",
    "plt.title('Feature Importances in Best Model')\n",
    "plt.bar(x=x.columns,height=imp)"
   ]
  },
  {
   "cell_type": "markdown",
   "metadata": {},
   "source": [
    "# Reading Test Data"
   ]
  },
  {
   "cell_type": "code",
   "execution_count": 22,
   "metadata": {},
   "outputs": [
    {
     "data": {
      "image/png": "[encoded data removed]",
      "text/plain": [
       "<Figure size 432x288 with 1 Axes>"
      ]
     },
     "metadata": {
      "needs_background": "light"
     },
     "output_type": "display_data"
    }
   ],
   "source": [
    "#What's included in the testing database? \n",
    "#1. The testing database contains a group of ECG signals. However,  \n",
    "#2. Type of each beat is unknown (?, ?, ...). For example: \n",
    "testing_file_path = './database/test/b2'\n",
    "ecg_sig, ecg_type, ecg_peak = read_ecg(testing_file_path)\n",
    "plot_ecg(ecg_sig, ecg_type, ecg_peak, title='Fig: Test (raw)', len_sig=2100)"
   ]
  },
  {
   "cell_type": "markdown",
   "metadata": {},
   "source": [
    "<font size=5>__Preprocessing test data__</font>"
   ]
  },
  {
   "cell_type": "code",
   "execution_count": 23,
   "metadata": {},
   "outputs": [],
   "source": [
    "dfTest=pd.DataFrame()\n",
    "dfTest1=pd.DataFrame()\n",
    "dfTest['ecg_sig']=ecg_sig\n",
    "dfTest1['ecg_type']=ecg_type\n",
    "dfTest1['ecg_peak']=ecg_peak\n",
    "dfTest1['p2p']=p2p(ecg_peak)\n",
    "dfTestNew=pd.merge(dfTest, dfTest1, left_index=True, right_on='ecg_peak',how='outer')\n",
    "dfTestNew['p2p']=dfTestNew['p2p'].fillna(0)\n",
    "dfTestNew['isPeak']=dfTestNew['ecg_type'].apply(lambda ecg: isPeak(str(ecg)))"
   ]
  },
  {
   "cell_type": "markdown",
   "metadata": {},
   "source": [
    "# Predicting for Test Data"
   ]
  },
  {
   "cell_type": "code",
   "execution_count": 24,
   "metadata": {},
   "outputs": [],
   "source": [
    "dfTestNew['Outcome']=best_model.predict(dfTestNew.drop(['ecg_type'],axis=1))"
   ]
  },
  {
   "cell_type": "code",
   "execution_count": 25,
   "metadata": {},
   "outputs": [],
   "source": [
    "dfTestNew['ecg_type']=dfTestNew['Outcome'].apply(lambda outC: 'V' if outC==1 else '?')"
   ]
  },
  {
   "cell_type": "code",
   "execution_count": 26,
   "metadata": {},
   "outputs": [],
   "source": [
    "ecg_type=dfTestNew.iloc[ecg_peak]['ecg_type'].tolist()"
   ]
  },
  {
   "cell_type": "markdown",
   "metadata": {},
   "source": [
    "# Plotting only V beats"
   ]
  },
  {
   "cell_type": "code",
   "execution_count": 27,
   "metadata": {},
   "outputs": [
    {
     "data": {
      "image/png": "[encoded data removed]",
      "text/plain": [
       "<Figure size 432x288 with 1 Axes>"
      ]
     },
     "metadata": {
      "needs_background": "light"
     },
     "output_type": "display_data"
    }
   ],
   "source": [
    "#Requirement: \n",
    "#1. develop an algorithm which identify all possible 'V' beats. \n",
    "\n",
    "#```\n",
    "#Hint: use train a machine learning model to predict (e.g. scikit-learn library)\n",
    "#a. segmentation based on peaks.\n",
    "#b. feature extraction for each segment.\n",
    "#c. initialize a classifier.\n",
    "#d. train, evaluate, test.\n",
    "#```\n",
    "\n",
    "#2. The indentified beat shall be assigned as 'V'. For example:  \n",
    "# ecg_type[0] = 'V' #assume the algorithm detected\n",
    "# ecg_type[2] = 'V' #assume the algorithm detected\n",
    "# ecg_type[5] = 'V' #assume the algorithm detected\n",
    "# ecg_type[7] = 'V' #assume the algorithm detected\n",
    "plot_ecg(ecg_sig, ecg_type, ecg_peak,title='Fig: Test (V detected)', len_sig=4300,npeak=20)\n"
   ]
  },
  {
   "cell_type": "code",
   "execution_count": 28,
   "metadata": {},
   "outputs": [],
   "source": [
    "#3. The assigned 'V' beat info shall be exported to WFDB format (*.test), \n",
    "#   and sent back to Biofourmis. \n",
    "wfdb.wrann('b2', 'test', ecg_peak, ecg_type, write_dir='./database/test/')"
   ]
  },
  {
   "cell_type": "code",
   "execution_count": null,
   "metadata": {},
   "outputs": [],
   "source": []
  }
 ],
 "metadata": {
  "kernelspec": {
   "display_name": "Python 3",
   "language": "python",
   "name": "python3"
  },
  "language_info": {
   "codemirror_mode": {
    "name": "ipython",
    "version": 3
   },
   "file_extension": ".py",
   "mimetype": "text/x-python",
   "name": "python",
   "nbconvert_exporter": "python",
   "pygments_lexer": "ipython3",
   "version": "3.6.6"
  }
 },
 "nbformat": 4,
 "nbformat_minor": 2
}
